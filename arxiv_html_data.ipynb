{
 "cells": [
  {
   "cell_type": "code",
   "execution_count": 1,
   "metadata": {},
   "outputs": [
    {
     "name": "stdout",
     "output_type": "stream",
     "text": [
      "hello\n"
     ]
    }
   ],
   "source": [
    "print('hello')"
   ]
  },
  {
   "cell_type": "code",
   "execution_count": 11,
   "metadata": {},
   "outputs": [
    {
     "name": "stdout",
     "output_type": "stream",
     "text": [
      "중복 없는 수식이 성공적으로 저장되었습니다: math_expressions_unique.txt\n"
     ]
    }
   ],
   "source": [
    "import requests\n",
    "from bs4 import BeautifulSoup\n",
    "\n",
    "def download_math_expressions_unique(arxiv_id, file_name='math_expressions_unique.txt'):\n",
    "    # HTML 파일의 URL\n",
    "    url = f'https://arxiv.org/html/{arxiv_id}'\n",
    "    \n",
    "    # 요청 보내기\n",
    "    response = requests.get(url)\n",
    "    if response.status_code == 200:\n",
    "        # HTML 파싱\n",
    "        soup = BeautifulSoup(response.text, 'html.parser')\n",
    "        # <math alttext=\"\"> 태그 찾기\n",
    "        math_tags = soup.find_all('math', alttext=True)\n",
    "        \n",
    "        # 중복 제거를 위한 세트\n",
    "        unique_expressions = set()\n",
    "        \n",
    "        # alttext 속성 값 추출 및 세트에 추가\n",
    "        for tag in math_tags:\n",
    "            alttext = tag['alttext'].strip()\n",
    "            unique_expressions.add(alttext)\n",
    "        \n",
    "        # 세트의 내용을 파일에 저장\n",
    "        with open(file_name, 'w', encoding='utf-8') as file:\n",
    "            for expression in unique_expressions:\n",
    "                file.write(expression + '\\n\\n')\n",
    "                \n",
    "        print(f'중복 없는 수식이 성공적으로 저장되었습니다: {file_name}')\n",
    "    else:\n",
    "        print('HTML 페이지를 불러오는 데 실패했습니다.')\n",
    "\n",
    "# 사용 예시\n",
    "arxiv_id = '2403.14579v1' # 이 부분을 원하는 arXiv ID로 변경하세요.\n",
    "download_math_expressions_unique(arxiv_id)\n"
   ]
  },
  {
   "cell_type": "markdown",
   "metadata": {},
   "source": [
    "$\\mathcal{W}(f)\\operatorname{\\coloneqq}\\frac{1}{4}\\int_{\\Sigma}H^{2}\\mathop{}\\!%\n",
    "\\mathrm{d}\\operatorname{vol}_{g_{f}}.$"
   ]
  },
  {
   "cell_type": "markdown",
   "metadata": {},
   "source": [
    "$$f_{\\#}\\sigma=\\mathcal{H}^{1}\\mathbin{\\vrule height=6.88889pt,depth=0.0pt,width%\n",
    "=0.55974pt\\vrule height=0.55974pt,depth=0.0pt,width=5.59721pt}{f(\\Sigma)\\cap%\n",
    "\\partial B_{r}(a)}$$"
   ]
  },
  {
   "cell_type": "code",
   "execution_count": 10,
   "metadata": {},
   "outputs": [
    {
     "name": "stdout",
     "output_type": "stream",
     "text": [
      "sym_expr f_{1}/((Sigma_{1}*(o*(R**3*mathbb))))\n",
      "simplified f_{1}/(R**3*Sigma_{1}*mathbb*o)\n",
      "latex \\frac{f_{1}}{R^{3} Sigma_{1} mathbb o}\n"
     ]
    },
    {
     "name": "stderr",
     "output_type": "stream",
     "text": [
      "<>:6: SyntaxWarning: invalid escape sequence '\\S'\n",
      "<>:6: SyntaxWarning: invalid escape sequence '\\S'\n",
      "C:\\Users\\wjdrb\\AppData\\Local\\Temp\\ipykernel_33836\\2199942519.py:6: SyntaxWarning: invalid escape sequence '\\S'\n",
      "  latex_expr = \"\"\"{f_{1}:\\Sigma_{1}\\to\\mathbb{R}^{3}}\"\"\"\n"
     ]
    }
   ],
   "source": [
    "from sympy import symbols, simplify\n",
    "from sympy.parsing.latex import parse_latex\n",
    "from sympy.printing import latex\n",
    "\n",
    "# LaTeX 수식 예제\n",
    "latex_expr = \"\"\"{f_{1}:\\Sigma_{1}\\to\\mathbb{R}^{3}}\"\"\"\n",
    "\n",
    "# LaTeX 수식을 SymPy 식으로 변환\n",
    "sym_expr = parse_latex(latex_expr)\n",
    "print(\"sym_expr\", sym_expr)\n",
    "# 수식 단순화\n",
    "simplified_expr = simplify(sym_expr)\n",
    "print(\"simplified\",simplified_expr)\n",
    "# 단순화된 수식을 LaTeX 형식으로 출력\n",
    "latex_output = latex(simplified_expr)\n",
    "print(\"latex\", latex_output)\n"
   ]
  },
  {
   "cell_type": "markdown",
   "metadata": {},
   "source": [
    "${f_{1}:\\Sigma_{1}\\to\\mathbb{R}^{3}}$"
   ]
  },
  {
   "cell_type": "markdown",
   "metadata": {},
   "source": [
    "$\\frac{f_{1}}{R^{3} Sigma_{1} mathbb o}$"
   ]
  },
  {
   "cell_type": "markdown",
   "metadata": {},
   "source": [
    "\\frac{f_{1}}{R^{3} Sigma_{1} mathbb o}"
   ]
  },
  {
   "cell_type": "code",
   "execution_count": null,
   "metadata": {},
   "outputs": [],
   "source": []
  }
 ],
 "metadata": {
  "kernelspec": {
   "display_name": "venv",
   "language": "python",
   "name": "python3"
  },
  "language_info": {
   "codemirror_mode": {
    "name": "ipython",
    "version": 3
   },
   "file_extension": ".py",
   "mimetype": "text/x-python",
   "name": "python",
   "nbconvert_exporter": "python",
   "pygments_lexer": "ipython3",
   "version": "3.12.2"
  }
 },
 "nbformat": 4,
 "nbformat_minor": 2
}
